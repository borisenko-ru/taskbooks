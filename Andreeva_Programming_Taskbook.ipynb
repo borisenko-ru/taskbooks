{
  "nbformat": 4,
  "nbformat_minor": 0,
  "metadata": {
    "colab": {
      "name": "Andreeva_Programming_Taskbook.ipynb",
      "provenance": [],
      "authorship_tag": "ABX9TyO2jlg3Q8NUWIuVBIv6P3P8",
      "include_colab_link": true
    },
    "kernelspec": {
      "name": "python3",
      "display_name": "Python 3"
    },
    "language_info": {
      "name": "python"
    }
  },
  "cells": [
    {
      "cell_type": "markdown",
      "metadata": {
        "id": "view-in-github",
        "colab_type": "text"
      },
      "source": [
        "<a href=\"https://colab.research.google.com/github/borisenko-ru/taskbooks/blob/main/Andreeva_Programming_Taskbook.ipynb\" target=\"_parent\"><img src=\"https://colab.research.google.com/assets/colab-badge.svg\" alt=\"Open In Colab\"/></a>"
      ]
    },
    {
      "cell_type": "code",
      "source": [
        "# Topic 3\n",
        "# 3.1\n",
        "\n",
        "k = int(input()) # 0<=k<=9999\n",
        "\n",
        "k1 = k // 1000\n",
        "k2 = k // 100 % 10\n",
        "k3 = k // 10 % 10\n",
        "k4 = k % 10\n",
        "\n",
        "l = k1 + k2 + k3 + k4\n",
        "print(l)\n"
      ],
      "metadata": {
        "id": "B7NyIkRHaRvc",
        "colab": {
          "base_uri": "https://localhost:8080/"
        },
        "outputId": "e889bf44-d0a8-465d-c25f-647189b4f938"
      },
      "execution_count": 21,
      "outputs": [
        {
          "output_type": "stream",
          "name": "stdout",
          "text": [
            "2008\n",
            "10\n"
          ]
        }
      ]
    },
    {
      "cell_type": "code",
      "source": [
        "# 3.2\n",
        "\n",
        "k = int(input()) # 0<=k<=86399\n",
        "\n",
        "h = k // 3600\n",
        "m = k % 3600 // 60\n",
        "\n",
        "print('It is {} hours {} minutes'.format(h, m))\n"
      ],
      "metadata": {
        "colab": {
          "base_uri": "https://localhost:8080/"
        },
        "id": "nQYmNvRId_EF",
        "outputId": "ca346888-77a6-424b-dd2a-e76d593cafcc"
      },
      "execution_count": 22,
      "outputs": [
        {
          "output_type": "stream",
          "name": "stdout",
          "text": [
            "13257\n",
            "It is 3 hours 40 minutes\n"
          ]
        }
      ]
    },
    {
      "cell_type": "code",
      "source": [
        "# 3.3\n",
        "\n",
        "d = int(input()) # 0<=d<=360\n",
        "\n",
        "h = d // (360 // 12)\n",
        "m = d % (360 // 12) * 60 // (360 // 12)\n",
        "\n",
        "print('It is', h, 'hours', m, 'minutes', sep=' ')\n"
      ],
      "metadata": {
        "id": "KnVO-k9ygNlf",
        "outputId": "882bdab8-e7ea-4663-b1b2-2e99b0c42a2f",
        "colab": {
          "base_uri": "https://localhost:8080/"
        }
      },
      "execution_count": 23,
      "outputs": [
        {
          "output_type": "stream",
          "name": "stdout",
          "text": [
            "90\n",
            "It is 3 hours 0 minutes\n"
          ]
        }
      ]
    },
    {
      "cell_type": "code",
      "source": [
        "# 3.4\n",
        "\n",
        "d = int(input()) # 0<=d<=360\n",
        "\n",
        "h = d // (360 // 12)\n",
        "m = d % (360 // 12) * 60 // (360 // 12)\n",
        "\n",
        "print('It is', h, 'hours', m, 'minutes', sep=' ')\n"
      ],
      "metadata": {
        "id": "IhPNM1tGlq7Y"
      },
      "execution_count": null,
      "outputs": []
    }
  ]
}