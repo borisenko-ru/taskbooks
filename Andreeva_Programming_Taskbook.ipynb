{
  "nbformat": 4,
  "nbformat_minor": 0,
  "metadata": {
    "colab": {
      "name": "Andreeva_Programming_Taskbook.ipynb",
      "provenance": [],
      "authorship_tag": "ABX9TyPKOycOlvSyQlothwnXqhQw",
      "include_colab_link": true
    },
    "kernelspec": {
      "name": "python3",
      "display_name": "Python 3"
    },
    "language_info": {
      "name": "python"
    }
  },
  "cells": [
    {
      "cell_type": "markdown",
      "metadata": {
        "id": "view-in-github",
        "colab_type": "text"
      },
      "source": [
        "<a href=\"https://colab.research.google.com/github/borisenko-ru/taskbooks/blob/main/Andreeva_Programming_Taskbook.ipynb\" target=\"_parent\"><img src=\"https://colab.research.google.com/assets/colab-badge.svg\" alt=\"Open In Colab\"/></a>"
      ]
    },
    {
      "cell_type": "code",
      "source": [
        "# Topic 3\n",
        "# 3.1\n",
        "\n",
        "k = int(input('k = ')) # 0<=k<=9999\n",
        "\n",
        "k1 = k // 1000\n",
        "k2 = k // 100 % 10\n",
        "k3 = k // 10 % 10\n",
        "k4 = k % 10\n",
        "\n",
        "l = k1 + k2 + k3 + k4\n",
        "print(l)\n"
      ],
      "metadata": {
        "id": "B7NyIkRHaRvc",
        "colab": {
          "base_uri": "https://localhost:8080/"
        },
        "outputId": "9d546f86-00c2-4f1d-dc1f-fd33e8311469"
      },
      "execution_count": null,
      "outputs": [
        {
          "output_type": "stream",
          "name": "stdout",
          "text": [
            "k = 2008\n",
            "10\n"
          ]
        }
      ]
    },
    {
      "cell_type": "code",
      "source": [
        "# 3.2\n",
        "\n",
        "k = int(input('k = ')) # 0<=k<=86399\n",
        "\n",
        "h = k // 3600\n",
        "m = k % 3600 // 60\n",
        "\n",
        "print('It is {} hours {} minutes'.format(h, m))\n"
      ],
      "metadata": {
        "colab": {
          "base_uri": "https://localhost:8080/"
        },
        "id": "nQYmNvRId_EF",
        "outputId": "edd90dcb-bc50-4706-dbba-49f2c6098fa6"
      },
      "execution_count": null,
      "outputs": [
        {
          "output_type": "stream",
          "name": "stdout",
          "text": [
            "k = 13257\n",
            "It is 3 hours 40 minutes\n"
          ]
        }
      ]
    },
    {
      "cell_type": "code",
      "source": [
        "# 3.3\n",
        "\n",
        "d = int(input('d = ')) # 0<=d<=360\n",
        "\n",
        "h = d // (360 // 12)\n",
        "m = d % (360 // 12) * 60 // (360 // 12)\n",
        "\n",
        "print('It is', h, 'hours', m, 'minutes', sep=' ')\n"
      ],
      "metadata": {
        "colab": {
          "base_uri": "https://localhost:8080/"
        },
        "id": "KnVO-k9ygNlf",
        "outputId": "d6031389-9871-4d34-983b-1a517a8587d8"
      },
      "execution_count": null,
      "outputs": [
        {
          "output_type": "stream",
          "name": "stdout",
          "text": [
            "d = 90\n",
            "It is 3 hours 0 minutes\n"
          ]
        }
      ]
    },
    {
      "cell_type": "code",
      "source": [
        "# 3.4\n",
        "\n",
        "k = int(input('k = ')) # 0<=k<=9999\n",
        "\n",
        "k1 = k // 1000\n",
        "k2 = k // 100 % 10\n",
        "k3 = k // 10 % 10\n",
        "k4 = k % 10\n",
        "\n",
        "l = (k1 - k4) * 2 + (k2 - k3) * 3 + 1\n",
        "\n",
        "print(l)\n"
      ],
      "metadata": {
        "colab": {
          "base_uri": "https://localhost:8080/"
        },
        "id": "IhPNM1tGlq7Y",
        "outputId": "41a93d54-41ea-451f-ffef-aada09d13429"
      },
      "execution_count": null,
      "outputs": [
        {
          "output_type": "stream",
          "name": "stdout",
          "text": [
            "k = 2002\n",
            "1\n"
          ]
        }
      ]
    },
    {
      "cell_type": "code",
      "source": [
        "# 3.5\n",
        "\n",
        "d = int(input()) # 1<=d<=5\n",
        "l = int(input()) # 1<=l<=6\n",
        "\n",
        "n = (d - 1) * 6 + l\n",
        "\n",
        "print(n)\n"
      ],
      "metadata": {
        "colab": {
          "base_uri": "https://localhost:8080/"
        },
        "id": "HIfKk8Ar_JJb",
        "outputId": "c7e76c3b-e876-44a6-b3cd-d4f883f823f1"
      },
      "execution_count": 9,
      "outputs": [
        {
          "output_type": "stream",
          "name": "stdout",
          "text": [
            "2\n",
            "1\n",
            "7\n"
          ]
        }
      ]
    },
    {
      "cell_type": "code",
      "source": [
        "# 3.6\n",
        "\n",
        "k, n = map(int, input().split()) # 1<=k<=200 1<=n<=20000\n",
        "\n",
        "p = n // k + 1 - n // k * k // n\n",
        "s = n - (p - 1) * k\n",
        "\n",
        "print(p, s)\n"
      ],
      "metadata": {
        "id": "H_nd6bmeqnQE",
        "outputId": "95a0999a-5b4a-42bc-8d1b-82597dd5f1a4",
        "colab": {
          "base_uri": "https://localhost:8080/"
        }
      },
      "execution_count": 137,
      "outputs": [
        {
          "output_type": "stream",
          "name": "stdout",
          "text": [
            "50 1\n",
            "1 1\n"
          ]
        }
      ]
    }
  ]
}