{
  "nbformat": 4,
  "nbformat_minor": 0,
  "metadata": {
    "colab": {
      "name": "Shen_Programming_Taskbook.ipynb",
      "provenance": [],
      "authorship_tag": "ABX9TyOSdrqivyNF48N4zXUqQNI+",
      "include_colab_link": true
    },
    "kernelspec": {
      "name": "python3",
      "display_name": "Python 3"
    },
    "language_info": {
      "name": "python"
    }
  },
  "cells": [
    {
      "cell_type": "markdown",
      "metadata": {
        "id": "view-in-github",
        "colab_type": "text"
      },
      "source": [
        "<a href=\"https://colab.research.google.com/github/borisenko-ru/taskbooks/blob/main/Shen_Programming_Taskbook.ipynb\" target=\"_parent\"><img src=\"https://colab.research.google.com/assets/colab-badge.svg\" alt=\"Open In Colab\"/></a>"
      ]
    },
    {
      "cell_type": "code",
      "source": [
        "# 1.1\n",
        "# 1.1.2\n",
        "a = int(input())\n",
        "n = int(input())\n",
        "\n",
        "a = a + b\n",
        "b = a - b\n",
        "a = a - b\n",
        "\n",
        "print('a=', a)\n",
        "print('b=', b)\n"
      ],
      "metadata": {
        "id": "Ig6W3CRNPGcI"
      },
      "execution_count": 15,
      "outputs": []
    },
    {
      "cell_type": "code",
      "source": [
        "# 1.1.3\n",
        "a = int(input())\n",
        "n = int(input())\n",
        "\n",
        "k = 0\n",
        "b = 1 # b = a в степени 0\n",
        "while k < n:\n",
        "  b = b * a\n",
        "  k += 1\n",
        "b\n"
      ],
      "metadata": {
        "colab": {
          "base_uri": "https://localhost:8080/"
        },
        "id": "L4kA2x-UPwDO",
        "outputId": "3858aaf6-b1bd-47fd-80b5-75426df3836b"
      },
      "execution_count": 21,
      "outputs": [
        {
          "name": "stdout",
          "output_type": "stream",
          "text": [
            "2\n",
            "64\n"
          ]
        },
        {
          "output_type": "execute_result",
          "data": {
            "text/plain": [
              "18446744073709551616"
            ]
          },
          "metadata": {},
          "execution_count": 21
        }
      ]
    },
    {
      "cell_type": "code",
      "source": [
        "a = int(input())\n",
        "n = int(input())\n",
        "\n",
        "k = n\n",
        "b = 1 # a в степени n = b * (a в степени k)\n",
        "while k > 0:\n",
        "  b = b * a\n",
        "  k -= 1\n",
        "b\n"
      ],
      "metadata": {
        "colab": {
          "base_uri": "https://localhost:8080/"
        },
        "id": "vdffdoE1WeEA",
        "outputId": "c0229bc3-b89c-49a9-ac43-c8572a3ab7a7"
      },
      "execution_count": 28,
      "outputs": [
        {
          "name": "stdout",
          "output_type": "stream",
          "text": [
            "2\n",
            "3\n"
          ]
        },
        {
          "output_type": "execute_result",
          "data": {
            "text/plain": [
              "8"
            ]
          },
          "metadata": {},
          "execution_count": 28
        }
      ]
    },
    {
      "cell_type": "code",
      "source": [
        "# 1.1.4\n",
        "a = int(input())\n",
        "n = int(input())\n",
        "\n",
        "k = n\n",
        "b = 1\n",
        "c = a # a в степени n = b * (c в степени k)\n",
        "\n",
        "while k > 0:\n",
        "  if k % 2 == 0:\n",
        "    k = k // 2\n",
        "    c *= c\n",
        "  else:\n",
        "    b *= c\n",
        "    k -= 1\n",
        "\n",
        "b\n"
      ],
      "metadata": {
        "colab": {
          "base_uri": "https://localhost:8080/"
        },
        "id": "TEgmPOJYX40P",
        "outputId": "f389242b-fc1f-4ae0-c891-c6e7c475dbda"
      },
      "execution_count": 35,
      "outputs": [
        {
          "name": "stdout",
          "output_type": "stream",
          "text": [
            "2\n",
            "4\n"
          ]
        },
        {
          "output_type": "execute_result",
          "data": {
            "text/plain": [
              "16"
            ]
          },
          "metadata": {},
          "execution_count": 35
        }
      ]
    },
    {
      "cell_type": "code",
      "source": [
        "k = 1\n",
        "k % 2"
      ],
      "metadata": {
        "colab": {
          "base_uri": "https://localhost:8080/"
        },
        "id": "UGTVZGd9bB21",
        "outputId": "a6815b90-138c-4dba-94a4-87e923956046"
      },
      "execution_count": 36,
      "outputs": [
        {
          "output_type": "execute_result",
          "data": {
            "text/plain": [
              "1"
            ]
          },
          "metadata": {},
          "execution_count": 36
        }
      ]
    },
    {
      "cell_type": "code",
      "source": [
        ""
      ],
      "metadata": {
        "id": "P6aq1hTycP09"
      },
      "execution_count": null,
      "outputs": []
    }
  ]
}