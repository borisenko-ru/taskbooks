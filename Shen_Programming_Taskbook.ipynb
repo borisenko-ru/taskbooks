{
  "nbformat": 4,
  "nbformat_minor": 0,
  "metadata": {
    "colab": {
      "name": "Shen_Programming_Taskbook.ipynb",
      "provenance": [],
      "authorship_tag": "ABX9TyOIH+CtyTLpxRqNv63Mwokj",
      "include_colab_link": true
    },
    "kernelspec": {
      "name": "python3",
      "display_name": "Python 3"
    },
    "language_info": {
      "name": "python"
    }
  },
  "cells": [
    {
      "cell_type": "markdown",
      "metadata": {
        "id": "view-in-github",
        "colab_type": "text"
      },
      "source": [
        "<a href=\"https://colab.research.google.com/github/borisenko-ru/taskbooks/blob/main/Shen_Programming_Taskbook.ipynb\" target=\"_parent\"><img src=\"https://colab.research.google.com/assets/colab-badge.svg\" alt=\"Open In Colab\"/></a>"
      ]
    },
    {
      "cell_type": "code",
      "source": [
        "# 1.1\n",
        "# 1.1.2\n",
        "a = int(input())\n",
        "b = int(input())\n",
        "\n",
        "a = a + b\n",
        "b = a - b\n",
        "a = a - b\n",
        "\n",
        "print('a=', a)\n",
        "print('b=', b)\n"
      ],
      "metadata": {
        "id": "Ig6W3CRNPGcI",
        "outputId": "af8d4595-6c30-4070-bf3c-ce9108ee6ab2",
        "colab": {
          "base_uri": "https://localhost:8080/"
        }
      },
      "execution_count": null,
      "outputs": [
        {
          "output_type": "stream",
          "name": "stdout",
          "text": [
            "2\n",
            "3\n",
            "a= 3\n",
            "b= 2\n"
          ]
        }
      ]
    },
    {
      "cell_type": "code",
      "source": [
        "# 1.1.3\n",
        "a = int(input())\n",
        "n = int(input())\n",
        "\n",
        "k = 0\n",
        "b = 1 # b = a в степени 0\n",
        "while k != n:\n",
        "  b = b * a\n",
        "  k += 1\n",
        "b\n"
      ],
      "metadata": {
        "colab": {
          "base_uri": "https://localhost:8080/"
        },
        "id": "L4kA2x-UPwDO",
        "outputId": "13c5aeb7-267a-4285-b968-023fc63e39f9"
      },
      "execution_count": null,
      "outputs": [
        {
          "name": "stdout",
          "output_type": "stream",
          "text": [
            "2\n",
            "3\n"
          ]
        },
        {
          "output_type": "execute_result",
          "data": {
            "text/plain": [
              "8"
            ]
          },
          "metadata": {},
          "execution_count": 14
        }
      ]
    },
    {
      "cell_type": "code",
      "source": [
        "a = int(input())\n",
        "n = int(input())\n",
        "\n",
        "k = n\n",
        "b = 1 # a в степени n = b * (a в степени k)\n",
        "while k != 0:\n",
        "  b = b * a\n",
        "  k -= 1\n",
        "b\n"
      ],
      "metadata": {
        "colab": {
          "base_uri": "https://localhost:8080/"
        },
        "id": "vdffdoE1WeEA",
        "outputId": "c0229bc3-b89c-49a9-ac43-c8572a3ab7a7"
      },
      "execution_count": null,
      "outputs": [
        {
          "name": "stdout",
          "output_type": "stream",
          "text": [
            "2\n",
            "3\n"
          ]
        },
        {
          "output_type": "execute_result",
          "data": {
            "text/plain": [
              "8"
            ]
          },
          "metadata": {},
          "execution_count": 28
        }
      ]
    },
    {
      "cell_type": "code",
      "source": [
        "# 1.1.4\n",
        "a = int(input())\n",
        "n = int(input())\n",
        "\n",
        "k = n\n",
        "b = 1\n",
        "c = a # a в степени n = b * (c в степени k)\n",
        "\n",
        "while k != 0:\n",
        "  if k % 2 == 0:\n",
        "    k = k // 2\n",
        "    c *= c\n",
        "  else:\n",
        "    b *= c\n",
        "    k -= 1\n",
        "\n",
        "b\n"
      ],
      "metadata": {
        "colab": {
          "base_uri": "https://localhost:8080/"
        },
        "id": "TEgmPOJYX40P",
        "outputId": "dbd8aa1a-e752-4c2c-ca93-7a8be85065bd"
      },
      "execution_count": null,
      "outputs": [
        {
          "name": "stdout",
          "output_type": "stream",
          "text": [
            "2\n",
            "3\n"
          ]
        },
        {
          "output_type": "execute_result",
          "data": {
            "text/plain": [
              "8"
            ]
          },
          "metadata": {},
          "execution_count": 15
        }
      ]
    },
    {
      "cell_type": "code",
      "source": [
        "# 1.1.5\n",
        "a = int(input())\n",
        "b = int(input())\n",
        "\n",
        "k = 0\n",
        "c = 0 # инвариант c = a * k\n",
        "while k != b:\n",
        "  k += 1\n",
        "  c += a\n",
        "\n",
        "c\n"
      ],
      "metadata": {
        "id": "bsFY1cXCNCp0",
        "outputId": "b1c3b6b4-4696-499e-a275-d58b8e989a6f",
        "colab": {
          "base_uri": "https://localhost:8080/"
        }
      },
      "execution_count": null,
      "outputs": [
        {
          "name": "stdout",
          "output_type": "stream",
          "text": [
            "4\n",
            "6\n"
          ]
        },
        {
          "output_type": "execute_result",
          "data": {
            "text/plain": [
              "24"
            ]
          },
          "metadata": {},
          "execution_count": 19
        }
      ]
    },
    {
      "cell_type": "code",
      "source": [
        "# 1.1.6\n",
        "a = int(input())\n",
        "b = int(input())\n",
        "\n",
        "k = 1\n",
        "c = a + 1 # инвариант c = k + a\n",
        "while k != b:\n",
        "  k += 1\n",
        "  c += 1\n",
        "\n",
        "c\n"
      ],
      "metadata": {
        "id": "NzVtLB4zSj2Z",
        "outputId": "d1a2cb93-8589-43eb-ba3c-cfa404064443",
        "colab": {
          "base_uri": "https://localhost:8080/"
        }
      },
      "execution_count": null,
      "outputs": [
        {
          "name": "stdout",
          "output_type": "stream",
          "text": [
            "900\n",
            "99\n"
          ]
        },
        {
          "output_type": "execute_result",
          "data": {
            "text/plain": [
              "999"
            ]
          },
          "metadata": {},
          "execution_count": 22
        }
      ]
    },
    {
      "cell_type": "code",
      "source": [
        "# 1.1.7\n",
        "a = int(input())\n",
        "d = int(input())\n",
        "\n",
        "# согласно определению a = q * d + r, 0 <= r < d\n",
        "q = 0\n",
        "r = a\n",
        "while r >= d:\n",
        "  r -= d\n",
        "  q += 1\n",
        "\n",
        "print('q=', q)\n",
        "print('r=', r)\n"
      ],
      "metadata": {
        "id": "QxXd3P44WAml",
        "outputId": "5c251164-3c70-40b0-9432-169a6f1308c7",
        "colab": {
          "base_uri": "https://localhost:8080/"
        }
      },
      "execution_count": 4,
      "outputs": [
        {
          "output_type": "stream",
          "name": "stdout",
          "text": [
            "3\n",
            "1\n",
            "q= 3\n",
            "r= 0\n"
          ]
        }
      ]
    },
    {
      "cell_type": "code",
      "source": [
        "# 1.1.8\n",
        "n = int(input())\n",
        "\n",
        "# согласно определению n! = n * (n - 1)!, 0! = 1\n",
        "k = n - 1\n",
        "while k > 0:\n",
        "  n = n * k\n",
        "  k -= 1\n",
        "\n",
        "print('n!=', n)\n"
      ],
      "metadata": {
        "id": "LnYhg5vobT3C",
        "outputId": "20767647-3c3e-4d34-fa0b-7feb7ca3fb5a",
        "colab": {
          "base_uri": "https://localhost:8080/"
        }
      },
      "execution_count": 25,
      "outputs": [
        {
          "output_type": "stream",
          "name": "stdout",
          "text": [
            "10\n",
            "n!= 3628800\n"
          ]
        }
      ]
    }
  ]
}